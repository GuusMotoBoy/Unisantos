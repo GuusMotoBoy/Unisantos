{
  "cells": [
    {
      "cell_type": "code",
      "execution_count": 1,
      "metadata": {
        "id": "2vpShpaOlYEx"
      },
      "outputs": [],
      "source": [
        "# pacote de processamento dos dados\n",
        "import pandas as pd\n",
        "import numpy as np\n",
        "\n",
        "# pacote de visualização de dados\n",
        "import seaborn as sns\n",
        "import matplotlib as mpl\n",
        "import matplotlib.pyplot as plt\n",
        "import plotly.express as px"
      ]
    },
    {
      "cell_type": "code",
      "execution_count": 2,
      "metadata": {
        "colab": {
          "base_uri": "https://localhost:8080/",
          "height": 206
        },
        "id": "9fneMf0Flh3g",
        "outputId": "38ee761a-bb7c-45a2-b6d1-064f7da81899"
      },
      "outputs": [
        {
          "data": {
            "text/html": [
              "<div>\n",
              "<style scoped>\n",
              "    .dataframe tbody tr th:only-of-type {\n",
              "        vertical-align: middle;\n",
              "    }\n",
              "\n",
              "    .dataframe tbody tr th {\n",
              "        vertical-align: top;\n",
              "    }\n",
              "\n",
              "    .dataframe thead th {\n",
              "        text-align: right;\n",
              "    }\n",
              "</style>\n",
              "<table border=\"1\" class=\"dataframe\">\n",
              "  <thead>\n",
              "    <tr style=\"text-align: right;\">\n",
              "      <th></th>\n",
              "      <th>ANO</th>\n",
              "      <th>MÊS</th>\n",
              "      <th>UNIDADE DA FEDERAÇÃO</th>\n",
              "      <th>REFINARIA</th>\n",
              "      <th>PRODUTO</th>\n",
              "      <th>PRODUÇÃO</th>\n",
              "    </tr>\n",
              "  </thead>\n",
              "  <tbody>\n",
              "    <tr>\n",
              "      <th>0</th>\n",
              "      <td>2000</td>\n",
              "      <td>JAN</td>\n",
              "      <td>AMAZONAS</td>\n",
              "      <td>REMAN</td>\n",
              "      <td>GAS COMBUSTIVEL</td>\n",
              "      <td>0.0</td>\n",
              "    </tr>\n",
              "    <tr>\n",
              "      <th>1</th>\n",
              "      <td>2000</td>\n",
              "      <td>FEV</td>\n",
              "      <td>AMAZONAS</td>\n",
              "      <td>REMAN</td>\n",
              "      <td>GAS COMBUSTIVEL</td>\n",
              "      <td>0.0</td>\n",
              "    </tr>\n",
              "    <tr>\n",
              "      <th>2</th>\n",
              "      <td>2000</td>\n",
              "      <td>MAR</td>\n",
              "      <td>AMAZONAS</td>\n",
              "      <td>REMAN</td>\n",
              "      <td>GAS COMBUSTIVEL</td>\n",
              "      <td>0.0</td>\n",
              "    </tr>\n",
              "    <tr>\n",
              "      <th>3</th>\n",
              "      <td>2000</td>\n",
              "      <td>ABR</td>\n",
              "      <td>AMAZONAS</td>\n",
              "      <td>REMAN</td>\n",
              "      <td>GAS COMBUSTIVEL</td>\n",
              "      <td>0.0</td>\n",
              "    </tr>\n",
              "    <tr>\n",
              "      <th>4</th>\n",
              "      <td>2000</td>\n",
              "      <td>MAI</td>\n",
              "      <td>AMAZONAS</td>\n",
              "      <td>REMAN</td>\n",
              "      <td>GAS COMBUSTIVEL</td>\n",
              "      <td>0.0</td>\n",
              "    </tr>\n",
              "  </tbody>\n",
              "</table>\n",
              "</div>"
            ],
            "text/plain": [
              "    ANO  MÊS UNIDADE DA FEDERAÇÃO REFINARIA          PRODUTO  PRODUÇÃO\n",
              "0  2000  JAN             AMAZONAS     REMAN  GAS COMBUSTIVEL       0.0\n",
              "1  2000  FEV             AMAZONAS     REMAN  GAS COMBUSTIVEL       0.0\n",
              "2  2000  MAR             AMAZONAS     REMAN  GAS COMBUSTIVEL       0.0\n",
              "3  2000  ABR             AMAZONAS     REMAN  GAS COMBUSTIVEL       0.0\n",
              "4  2000  MAI             AMAZONAS     REMAN  GAS COMBUSTIVEL       0.0"
            ]
          },
          "execution_count": 2,
          "metadata": {},
          "output_type": "execute_result"
        }
      ],
      "source": [
        "arquivo2 = 'https://raw.githubusercontent.com/GabrielQuinteiro/TDE-3sem/main/producao-gas-combustivel-1000m3-2000-2023.xls'\n",
        "\n",
        "# leitura do arquivo\n",
        "\n",
        "df = pd.read_excel(arquivo2)\n",
        "\n",
        "# imprime as 5 primeiras linhas\n",
        "\n",
        "df.head(5)\n"
      ]
    },
    {
      "cell_type": "code",
      "execution_count": 3,
      "metadata": {
        "colab": {
          "base_uri": "https://localhost:8080/",
          "height": 206
        },
        "id": "A_qezR1QwZrN",
        "outputId": "60697ca3-3656-43e5-f3b5-cb8706152035"
      },
      "outputs": [
        {
          "data": {
            "text/html": [
              "<div>\n",
              "<style scoped>\n",
              "    .dataframe tbody tr th:only-of-type {\n",
              "        vertical-align: middle;\n",
              "    }\n",
              "\n",
              "    .dataframe tbody tr th {\n",
              "        vertical-align: top;\n",
              "    }\n",
              "\n",
              "    .dataframe thead th {\n",
              "        text-align: right;\n",
              "    }\n",
              "</style>\n",
              "<table border=\"1\" class=\"dataframe\">\n",
              "  <thead>\n",
              "    <tr style=\"text-align: right;\">\n",
              "      <th></th>\n",
              "      <th>ANO</th>\n",
              "      <th>MÊS</th>\n",
              "      <th>UNIDADE DA FEDERAÇÃO</th>\n",
              "      <th>REFINARIA</th>\n",
              "      <th>PRODUTO</th>\n",
              "      <th>PRODUÇÃO</th>\n",
              "    </tr>\n",
              "  </thead>\n",
              "  <tbody>\n",
              "    <tr>\n",
              "      <th>3858</th>\n",
              "      <td>2023</td>\n",
              "      <td>FEV</td>\n",
              "      <td>PARANÁ</td>\n",
              "      <td>REPAR</td>\n",
              "      <td>GAS COMBUSTIVEL</td>\n",
              "      <td>33589.743590</td>\n",
              "    </tr>\n",
              "    <tr>\n",
              "      <th>3859</th>\n",
              "      <td>2023</td>\n",
              "      <td>JAN</td>\n",
              "      <td>RIO GRANDE DO SUL</td>\n",
              "      <td>RIOGRANDENSE</td>\n",
              "      <td>GAS COMBUSTIVEL</td>\n",
              "      <td>1508.054000</td>\n",
              "    </tr>\n",
              "    <tr>\n",
              "      <th>3860</th>\n",
              "      <td>2023</td>\n",
              "      <td>FEV</td>\n",
              "      <td>RIO GRANDE DO SUL</td>\n",
              "      <td>RIOGRANDENSE</td>\n",
              "      <td>GAS COMBUSTIVEL</td>\n",
              "      <td>1377.681000</td>\n",
              "    </tr>\n",
              "    <tr>\n",
              "      <th>3861</th>\n",
              "      <td>2023</td>\n",
              "      <td>JAN</td>\n",
              "      <td>RIO GRANDE DO SUL</td>\n",
              "      <td>REFAP</td>\n",
              "      <td>GAS COMBUSTIVEL</td>\n",
              "      <td>14136.774360</td>\n",
              "    </tr>\n",
              "    <tr>\n",
              "      <th>3862</th>\n",
              "      <td>2023</td>\n",
              "      <td>FEV</td>\n",
              "      <td>RIO GRANDE DO SUL</td>\n",
              "      <td>REFAP</td>\n",
              "      <td>GAS COMBUSTIVEL</td>\n",
              "      <td>2849.885897</td>\n",
              "    </tr>\n",
              "  </tbody>\n",
              "</table>\n",
              "</div>"
            ],
            "text/plain": [
              "       ANO  MÊS UNIDADE DA FEDERAÇÃO     REFINARIA          PRODUTO   \n",
              "3858  2023  FEV               PARANÁ         REPAR  GAS COMBUSTIVEL  \\\n",
              "3859  2023  JAN    RIO GRANDE DO SUL  RIOGRANDENSE  GAS COMBUSTIVEL   \n",
              "3860  2023  FEV    RIO GRANDE DO SUL  RIOGRANDENSE  GAS COMBUSTIVEL   \n",
              "3861  2023  JAN    RIO GRANDE DO SUL         REFAP  GAS COMBUSTIVEL   \n",
              "3862  2023  FEV    RIO GRANDE DO SUL         REFAP  GAS COMBUSTIVEL   \n",
              "\n",
              "          PRODUÇÃO  \n",
              "3858  33589.743590  \n",
              "3859   1508.054000  \n",
              "3860   1377.681000  \n",
              "3861  14136.774360  \n",
              "3862   2849.885897  "
            ]
          },
          "execution_count": 3,
          "metadata": {},
          "output_type": "execute_result"
        }
      ],
      "source": [
        "# imprime as 5 útilmas linhas \n",
        "\n",
        "df.tail(5)"
      ]
    },
    {
      "cell_type": "code",
      "execution_count": 4,
      "metadata": {
        "colab": {
          "base_uri": "https://localhost:8080/"
        },
        "id": "4btXjXM7EGbO",
        "outputId": "ef5ee384-adc6-43e6-cba0-0644324d372f"
      },
      "outputs": [
        {
          "name": "stdout",
          "output_type": "stream",
          "text": [
            "ANO                     0\n",
            "MÊS                     0\n",
            "UNIDADE DA FEDERAÇÃO    0\n",
            "REFINARIA               0\n",
            "PRODUTO                 0\n",
            "PRODUÇÃO                0\n",
            "dtype: int64\n"
          ]
        }
      ],
      "source": [
        "# mostra a quantidade de valores nulos no dataset\n",
        "\n",
        "print(df.isnull().sum())\n"
      ]
    },
    {
      "cell_type": "code",
      "execution_count": 5,
      "metadata": {
        "colab": {
          "base_uri": "https://localhost:8080/"
        },
        "id": "UG7WzyX_CsGP",
        "outputId": "81f833b6-71fa-4f50-8f88-30136763d19d"
      },
      "outputs": [
        {
          "data": {
            "text/plain": [
              "937"
            ]
          },
          "execution_count": 5,
          "metadata": {},
          "output_type": "execute_result"
        }
      ],
      "source": [
        "# conta quantas linhas da coluna 'PRODUÇÃO' contém o valor 0.\n",
        "\n",
        "(df['PRODUÇÃO'] == 0).sum()\n"
      ]
    },
    {
      "cell_type": "code",
      "execution_count": 6,
      "metadata": {},
      "outputs": [
        {
          "name": "stdout",
          "output_type": "stream",
          "text": [
            "<class 'pandas.core.frame.DataFrame'>\n",
            "RangeIndex: 3863 entries, 0 to 3862\n",
            "Data columns (total 6 columns):\n",
            " #   Column                Non-Null Count  Dtype  \n",
            "---  ------                --------------  -----  \n",
            " 0   ANO                   3863 non-null   int64  \n",
            " 1   MÊS                   3863 non-null   object \n",
            " 2   UNIDADE DA FEDERAÇÃO  3863 non-null   object \n",
            " 3   REFINARIA             3863 non-null   object \n",
            " 4   PRODUTO               3863 non-null   object \n",
            " 5   PRODUÇÃO              3863 non-null   float64\n",
            "dtypes: float64(1), int64(1), object(4)\n",
            "memory usage: 181.2+ KB\n"
          ]
        }
      ],
      "source": [
        "# Imprime as informações gerais do arquivo:\n",
        "\n",
        "df.info()"
      ]
    },
    {
      "cell_type": "code",
      "execution_count": 7,
      "metadata": {
        "colab": {
          "base_uri": "https://localhost:8080/"
        },
        "id": "WH0dHEpTEQwK",
        "outputId": "75fb28a3-5971-44a8-a0f7-49ef36b1dc15"
      },
      "outputs": [
        {
          "data": {
            "text/plain": [
              "count     3863.000000\n",
              "mean     17259.596519\n",
              "std      17957.512868\n",
              "min          0.000000\n",
              "25%         18.364423\n",
              "50%      14650.004000\n",
              "75%      27183.068000\n",
              "max      99814.770000\n",
              "Name: PRODUÇÃO, dtype: float64"
            ]
          },
          "execution_count": 7,
          "metadata": {},
          "output_type": "execute_result"
        }
      ],
      "source": [
        "# resumo estatistico da coluna 'PRODUÇÃO'\n",
        "\n",
        "df['PRODUÇÃO'].describe()\n"
      ]
    },
    {
      "cell_type": "code",
      "execution_count": 8,
      "metadata": {
        "colab": {
          "base_uri": "https://localhost:8080/",
          "height": 472
        },
        "id": "MqVBVN_5XRb8",
        "outputId": "f2dfde43-8d7f-4a14-9fe5-b3103f29f530"
      },
      "outputs": [
        {
          "data": {
            "image/png": "[encoded data removed]",
            "text/plain": [
              "<Figure size 640x480 with 1 Axes>"
            ]
          },
          "metadata": {},
          "output_type": "display_data"
        }
      ],
      "source": [
        "# Filtra os dados pela Bahia e pelo ano de 2000\n",
        "df_bahia_2000 = df[(df['UNIDADE DA FEDERAÇÃO'] == 'BAHIA') & (df['ANO'] == 2000)]\n",
        "\n",
        "# Plota o gráfico de barras\n",
        "plt.bar(df_bahia_2000['MÊS'], df_bahia_2000['PRODUÇÃO'])\n",
        "plt.xlabel('Mês')\n",
        "plt.ylabel('Produção (1000 m³)')\n",
        "plt.title('Produção de gás na Bahia em 2000')\n",
        "plt.show()"
      ]
    },
    {
      "cell_type": "code",
      "execution_count": 9,
      "metadata": {
        "colab": {
          "base_uri": "https://localhost:8080/",
          "height": 526
        },
        "id": "ZtB05MW3MnnA",
        "outputId": "1ec448f6-f045-42b1-a3f9-f73912036b9a"
      },
      "outputs": [
        {
          "name": "stdout",
          "output_type": "stream",
          "text": [
            "O ano mais produtivo foi 2013 e o ano menos produtivo foi 2000.\n"
          ]
        },
        {
          "data": {
            "image/png": "[encoded data removed]",
            "text/plain": [
              "<Figure size 1000x500 with 1 Axes>"
            ]
          },
          "metadata": {},
          "output_type": "display_data"
        }
      ],
      "source": [
        "# remove o ano 2023\n",
        "df_filtered = df[df['ANO'] < 2023]\n",
        "\n",
        "# agrupa os dados por ano e soma as produções\n",
        "producao_por_ano = df_filtered.groupby('ANO')['PRODUÇÃO'].sum()\n",
        "\n",
        "# ordena o resultado do agrupamento pela coluna de produção em ordem decrescente e pega o primeiro valor, correspondente ao ano com maior produção.\n",
        "ano_mais_produtivo = producao_por_ano.sort_values(ascending=False).index[0]\n",
        "\n",
        "# ordena o resultado do agrupamento pela coluna de produção em ordem decrescente e pega o primeiro valor, correspondente ao ano com maior produção.\n",
        "ano_menos_produtivo = producao_por_ano.sort_values(ascending=True).index[0]\n",
        "\n",
        "print(f\"O ano mais produtivo foi {ano_mais_produtivo} e o ano menos produtivo foi {ano_menos_produtivo}.\")\n",
        "\n",
        "# encontra o índice da maior e menor produção\n",
        "idx_maior = producao_por_ano.argmax()\n",
        "idx_menor = producao_por_ano.argmin()\n",
        "\n",
        "# define as cores das barras\n",
        "cores = ['r' if i == idx_menor else 'g' if i == idx_maior else 'b' for i in range(len(producao_por_ano))]\n",
        "\n",
        "# plota o gráfico de barras\n",
        "producao_por_ano.plot(kind='bar', color=cores, figsize=(10,5))\n",
        "\n",
        "# define os títulos do gráfico e dos eixos\n",
        "plt.title('Produção de Gás Combustível por Ano')\n",
        "plt.xlabel('Ano')\n",
        "plt.ylabel('Produção (1000m³)')\n",
        "\n",
        "# exibe o gráfico\n",
        "plt.show()\n"
      ]
    }
  ],
  "metadata": {
    "colab": {
      "provenance": []
    },
    "kernelspec": {
      "display_name": "Python 3",
      "name": "python3"
    },
    "language_info": {
      "codemirror_mode": {
        "name": "ipython",
        "version": 3
      },
      "file_extension": ".py",
      "mimetype": "text/x-python",
      "name": "python",
      "nbconvert_exporter": "python",
      "pygments_lexer": "ipython3",
      "version": "3.10.6"
    }
  },
  "nbformat": 4,
  "nbformat_minor": 0
}
