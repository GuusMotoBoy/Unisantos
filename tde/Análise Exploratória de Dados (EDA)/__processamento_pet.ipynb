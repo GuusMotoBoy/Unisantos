{
  "cells": [
    {
      "cell_type": "code",
      "execution_count": 3,
      "metadata": {
        "id": "2vpShpaOlYEx"
      },
      "outputs": [],
      "source": [
        "# pacote de processamento dos dados\n",
        "import pandas as pd\n",
        "import numpy as np\n",
        "\n",
        "# pacote de visualização de dados\n",
        "import seaborn as sns\n",
        "import matplotlib as mpl\n",
        "import matplotlib.pyplot as plt\n",
        "import plotly.express as px"
      ]
    },
    {
      "cell_type": "code",
      "execution_count": 4,
      "metadata": {
        "colab": {
          "base_uri": "https://localhost:8080/",
          "height": 206
        },
        "id": "9fneMf0Flh3g",
        "outputId": "38ee761a-bb7c-45a2-b6d1-064f7da81899"
      },
      "outputs": [
        {
          "data": {
            "text/html": [
              "<div>\n",
              "<style scoped>\n",
              "    .dataframe tbody tr th:only-of-type {\n",
              "        vertical-align: middle;\n",
              "    }\n",
              "\n",
              "    .dataframe tbody tr th {\n",
              "        vertical-align: top;\n",
              "    }\n",
              "\n",
              "    .dataframe thead th {\n",
              "        text-align: right;\n",
              "    }\n",
              "</style>\n",
              "<table border=\"1\" class=\"dataframe\">\n",
              "  <thead>\n",
              "    <tr style=\"text-align: right;\">\n",
              "      <th></th>\n",
              "      <th>ANO</th>\n",
              "      <th>MÊS</th>\n",
              "      <th>UNIDADE DA FEDERAÇÃO</th>\n",
              "      <th>REFINARIA</th>\n",
              "      <th>MATÉRIA PRIMA</th>\n",
              "      <th>PROCESSADO</th>\n",
              "    </tr>\n",
              "  </thead>\n",
              "  <tbody>\n",
              "    <tr>\n",
              "      <th>0</th>\n",
              "      <td>1990</td>\n",
              "      <td>DEZ</td>\n",
              "      <td>BAHIA</td>\n",
              "      <td>DAX OIL</td>\n",
              "      <td>PETRÓLEO IMPORTADO</td>\n",
              "      <td>0</td>\n",
              "    </tr>\n",
              "    <tr>\n",
              "      <th>1</th>\n",
              "      <td>1990</td>\n",
              "      <td>NOV</td>\n",
              "      <td>BAHIA</td>\n",
              "      <td>DAX OIL</td>\n",
              "      <td>PETRÓLEO IMPORTADO</td>\n",
              "      <td>0</td>\n",
              "    </tr>\n",
              "    <tr>\n",
              "      <th>2</th>\n",
              "      <td>1990</td>\n",
              "      <td>FEV</td>\n",
              "      <td>SÃO PAULO</td>\n",
              "      <td>RPBC</td>\n",
              "      <td>OUTRAS CARGAS</td>\n",
              "      <td>3026</td>\n",
              "    </tr>\n",
              "    <tr>\n",
              "      <th>3</th>\n",
              "      <td>1990</td>\n",
              "      <td>JAN</td>\n",
              "      <td>SÃO PAULO</td>\n",
              "      <td>RPBC</td>\n",
              "      <td>OUTRAS CARGAS</td>\n",
              "      <td>2678</td>\n",
              "    </tr>\n",
              "    <tr>\n",
              "      <th>4</th>\n",
              "      <td>1990</td>\n",
              "      <td>OUT</td>\n",
              "      <td>BAHIA</td>\n",
              "      <td>DAX OIL</td>\n",
              "      <td>PETRÓLEO IMPORTADO</td>\n",
              "      <td>0</td>\n",
              "    </tr>\n",
              "  </tbody>\n",
              "</table>\n",
              "</div>"
            ],
            "text/plain": [
              "    ANO  MÊS UNIDADE DA FEDERAÇÃO REFINARIA       MATÉRIA PRIMA  PROCESSADO\n",
              "0  1990  DEZ                BAHIA   DAX OIL  PETRÓLEO IMPORTADO           0\n",
              "1  1990  NOV                BAHIA   DAX OIL  PETRÓLEO IMPORTADO           0\n",
              "2  1990  FEV            SÃO PAULO      RPBC       OUTRAS CARGAS        3026\n",
              "3  1990  JAN            SÃO PAULO      RPBC       OUTRAS CARGAS        2678\n",
              "4  1990  OUT                BAHIA   DAX OIL  PETRÓLEO IMPORTADO           0"
            ]
          },
          "execution_count": 4,
          "metadata": {},
          "output_type": "execute_result"
        }
      ],
      "source": [
        "arquivo2 = 'https://github.com/devGuus/Unisantos/raw/main/tde/Dados/processamento-petroleo-m3-1990-2023.xls'\n",
        "\n",
        "# leitura do arquivo\n",
        "\n",
        "df = pd.read_excel(arquivo2)\n",
        "\n",
        "# imprime as 5 primeiras linhas\n",
        "\n",
        "df.head(5)\n"
      ]
    },
    {
      "cell_type": "code",
      "execution_count": 3,
      "metadata": {
        "colab": {
          "base_uri": "https://localhost:8080/",
          "height": 206
        },
        "id": "A_qezR1QwZrN",
        "outputId": "60697ca3-3656-43e5-f3b5-cb8706152035"
      },
      "outputs": [
        {
          "data": {
            "text/html": [
              "<div>\n",
              "<style scoped>\n",
              "    .dataframe tbody tr th:only-of-type {\n",
              "        vertical-align: middle;\n",
              "    }\n",
              "\n",
              "    .dataframe tbody tr th {\n",
              "        vertical-align: top;\n",
              "    }\n",
              "\n",
              "    .dataframe thead th {\n",
              "        text-align: right;\n",
              "    }\n",
              "</style>\n",
              "<table border=\"1\" class=\"dataframe\">\n",
              "  <thead>\n",
              "    <tr style=\"text-align: right;\">\n",
              "      <th></th>\n",
              "      <th>ANO</th>\n",
              "      <th>MÊS</th>\n",
              "      <th>UNIDADE DA FEDERAÇÃO</th>\n",
              "      <th>REFINARIA</th>\n",
              "      <th>MATÉRIA PRIMA</th>\n",
              "      <th>PROCESSADO</th>\n",
              "    </tr>\n",
              "  </thead>\n",
              "  <tbody>\n",
              "    <tr>\n",
              "      <th>21149</th>\n",
              "      <td>2023</td>\n",
              "      <td>MAR</td>\n",
              "      <td>SÃO PAULO</td>\n",
              "      <td>RPBC</td>\n",
              "      <td>PETRÓLEO IMPORTADO</td>\n",
              "      <td>31793</td>\n",
              "    </tr>\n",
              "    <tr>\n",
              "      <th>21150</th>\n",
              "      <td>2023</td>\n",
              "      <td>FEV</td>\n",
              "      <td>SÃO PAULO</td>\n",
              "      <td>SSOIL</td>\n",
              "      <td>PETRÓLEO NACIONAL</td>\n",
              "      <td>0</td>\n",
              "    </tr>\n",
              "    <tr>\n",
              "      <th>21151</th>\n",
              "      <td>2023</td>\n",
              "      <td>JAN</td>\n",
              "      <td>SÃO PAULO</td>\n",
              "      <td>SSOIL</td>\n",
              "      <td>PETRÓLEO NACIONAL</td>\n",
              "      <td>0</td>\n",
              "    </tr>\n",
              "    <tr>\n",
              "      <th>21152</th>\n",
              "      <td>2023</td>\n",
              "      <td>FEV</td>\n",
              "      <td>SÃO PAULO</td>\n",
              "      <td>RPBC</td>\n",
              "      <td>PETRÓLEO IMPORTADO</td>\n",
              "      <td>5195</td>\n",
              "    </tr>\n",
              "    <tr>\n",
              "      <th>21153</th>\n",
              "      <td>2023</td>\n",
              "      <td>JAN</td>\n",
              "      <td>SÃO PAULO</td>\n",
              "      <td>RPBC</td>\n",
              "      <td>PETRÓLEO IMPORTADO</td>\n",
              "      <td>12556</td>\n",
              "    </tr>\n",
              "  </tbody>\n",
              "</table>\n",
              "</div>"
            ],
            "text/plain": [
              "        ANO  MÊS UNIDADE DA FEDERAÇÃO REFINARIA       MATÉRIA PRIMA   \n",
              "21149  2023  MAR            SÃO PAULO      RPBC  PETRÓLEO IMPORTADO  \\\n",
              "21150  2023  FEV            SÃO PAULO     SSOIL   PETRÓLEO NACIONAL   \n",
              "21151  2023  JAN            SÃO PAULO     SSOIL   PETRÓLEO NACIONAL   \n",
              "21152  2023  FEV            SÃO PAULO      RPBC  PETRÓLEO IMPORTADO   \n",
              "21153  2023  JAN            SÃO PAULO      RPBC  PETRÓLEO IMPORTADO   \n",
              "\n",
              "       PROCESSADO  \n",
              "21149       31793  \n",
              "21150           0  \n",
              "21151           0  \n",
              "21152        5195  \n",
              "21153       12556  "
            ]
          },
          "execution_count": 3,
          "metadata": {},
          "output_type": "execute_result"
        }
      ],
      "source": [
        "# imprime as 5 útilmas linhas \n",
        "\n",
        "df.tail(5)"
      ]
    },
    {
      "cell_type": "code",
      "execution_count": 4,
      "metadata": {
        "colab": {
          "base_uri": "https://localhost:8080/"
        },
        "id": "4btXjXM7EGbO",
        "outputId": "ef5ee384-adc6-43e6-cba0-0644324d372f"
      },
      "outputs": [
        {
          "name": "stdout",
          "output_type": "stream",
          "text": [
            "ANO                     0\n",
            "MÊS                     0\n",
            "UNIDADE DA FEDERAÇÃO    0\n",
            "REFINARIA               0\n",
            "MATÉRIA PRIMA           0\n",
            "PROCESSADO              0\n",
            "dtype: int64\n"
          ]
        }
      ],
      "source": [
        "# mostra a quantidade de valores nulos no dataset\n",
        "\n",
        "print(df.isnull().sum())\n"
      ]
    },
    {
      "cell_type": "code",
      "execution_count": 5,
      "metadata": {
        "colab": {
          "base_uri": "https://localhost:8080/"
        },
        "id": "UG7WzyX_CsGP",
        "outputId": "81f833b6-71fa-4f50-8f88-30136763d19d"
      },
      "outputs": [
        {
          "data": {
            "text/plain": [
              "7456"
            ]
          },
          "execution_count": 5,
          "metadata": {},
          "output_type": "execute_result"
        }
      ],
      "source": [
        "# conta quantas linhas da coluna 'PRODUÇÃO' contém o valor 0.\n",
        "\n",
        "(df['PROCESSADO'] == 0).sum()\n"
      ]
    },
    {
      "cell_type": "code",
      "execution_count": 6,
      "metadata": {},
      "outputs": [
        {
          "name": "stdout",
          "output_type": "stream",
          "text": [
            "<class 'pandas.core.frame.DataFrame'>\n",
            "RangeIndex: 21154 entries, 0 to 21153\n",
            "Data columns (total 6 columns):\n",
            " #   Column                Non-Null Count  Dtype \n",
            "---  ------                --------------  ----- \n",
            " 0   ANO                   21154 non-null  int64 \n",
            " 1   MÊS                   21154 non-null  object\n",
            " 2   UNIDADE DA FEDERAÇÃO  21154 non-null  object\n",
            " 3   REFINARIA             21154 non-null  object\n",
            " 4   MATÉRIA PRIMA         21154 non-null  object\n",
            " 5   PROCESSADO            21154 non-null  int64 \n",
            "dtypes: int64(2), object(4)\n",
            "memory usage: 991.7+ KB\n"
          ]
        }
      ],
      "source": [
        "# Imprime as informações gerais do arquivo:\n",
        "\n",
        "df.info()"
      ]
    },
    {
      "cell_type": "code",
      "execution_count": 7,
      "metadata": {
        "colab": {
          "base_uri": "https://localhost:8080/"
        },
        "id": "WH0dHEpTEQwK",
        "outputId": "75fb28a3-5971-44a8-a0f7-49ef36b1dc15"
      },
      "outputs": [
        {
          "data": {
            "text/plain": [
              "count    2.115400e+04\n",
              "mean     1.506859e+05\n",
              "std      2.898058e+05\n",
              "min      0.000000e+00\n",
              "25%      0.000000e+00\n",
              "50%      8.877500e+03\n",
              "75%      1.468678e+05\n",
              "max      1.918414e+06\n",
              "Name: PROCESSADO, dtype: float64"
            ]
          },
          "execution_count": 7,
          "metadata": {},
          "output_type": "execute_result"
        }
      ],
      "source": [
        "# resumo estatistico da coluna 'PRODUÇÃO'\n",
        "\n",
        "df['PROCESSADO'].describe()\n"
      ]
    },
    {
      "cell_type": "code",
      "execution_count": 13,
      "metadata": {
        "colab": {
          "base_uri": "https://localhost:8080/",
          "height": 472
        },
        "id": "MqVBVN_5XRb8",
        "outputId": "f2dfde43-8d7f-4a14-9fe5-b3103f29f530"
      },
      "outputs": [
        {
          "data": {
            "image/png": "[encoded data removed]",
            "text/plain": [
              "<Figure size 640x480 with 1 Axes>"
            ]
          },
          "metadata": {},
          "output_type": "display_data"
        }
      ],
      "source": [
        "# Filtra os dados pela Bahia e pelo ano de 2000\n",
        "df_bahia_2000 = df[(df['UNIDADE DA FEDERAÇÃO'] == 'SÃO PAULO') & (df['ANO'] == 2000)]\n",
        "\n",
        "# Plota o gráfico de barras\n",
        "plt.bar(df_bahia_2000['MÊS'], df_bahia_2000['PROCESSADO'])\n",
        "plt.xlabel('Mês')\n",
        "plt.ylabel('Processamento (1000 m³)')\n",
        "plt.title('Processamento de petróleo na Bahia em 2000')\n",
        "plt.show()"
      ]
    },
    {
      "cell_type": "code",
      "execution_count": 9,
      "metadata": {
        "colab": {
          "base_uri": "https://localhost:8080/",
          "height": 526
        },
        "id": "ZtB05MW3MnnA",
        "outputId": "1ec448f6-f045-42b1-a3f9-f73912036b9a"
      },
      "outputs": [
        {
          "name": "stdout",
          "output_type": "stream",
          "text": [
            "O ano mais produtivo foi 2014 e o ano menos produtivo foi 1991.\n"
          ]
        },
        {
          "data": {
            "image/png": "[encoded data removed]",
            "text/plain": [
              "<Figure size 1000x500 with 1 Axes>"
            ]
          },
          "metadata": {},
          "output_type": "display_data"
        }
      ],
      "source": [
        "# remove o ano 2023\n",
        "df_filtered = df[df['ANO'] < 2023]\n",
        "\n",
        "# agrupa os dados por ano e soma os processos\n",
        "producao_por_ano = df_filtered.groupby('ANO')['PROCESSADO'].sum()\n",
        "\n",
        "# ordena o resultado do agrupamento pela coluna de produção em ordem decrescente e pega o primeiro valor, correspondente ao ano com maior produção.\n",
        "ano_mais_produtivo = producao_por_ano.sort_values(ascending=False).index[0]\n",
        "\n",
        "# ordena o resultado do agrupamento pela coluna de produção em ordem decrescente e pega o primeiro valor, correspondente ao ano com maior produção.\n",
        "ano_menos_produtivo = producao_por_ano.sort_values(ascending=True).index[0]\n",
        "\n",
        "print(f\"O ano mais produtivo foi {ano_mais_produtivo} e o ano menos produtivo foi {ano_menos_produtivo}.\")\n",
        "\n",
        "# encontra o índice da maior e menor produção\n",
        "idx_maior = producao_por_ano.argmax()\n",
        "idx_menor = producao_por_ano.argmin()\n",
        "\n",
        "# define as cores das barras\n",
        "cores = ['r' if i == idx_menor else 'g' if i == idx_maior else 'b' for i in range(len(producao_por_ano))]\n",
        "\n",
        "# plota o gráfico de barras\n",
        "producao_por_ano.plot(kind='bar', color=cores, figsize=(10,5))\n",
        "\n",
        "# define os títulos do gráfico e dos eixos\n",
        "plt.title('Processamento de Petróleo por Ano')\n",
        "plt.xlabel('Ano')\n",
        "plt.ylabel('Produção (1000m³)')\n",
        "\n",
        "# exibe o gráfico\n",
        "plt.show()\n"
      ]
    }
  ],
  "metadata": {
    "colab": {
      "provenance": []
    },
    "kernelspec": {
      "display_name": "Python 3",
      "name": "python3"
    },
    "language_info": {
      "codemirror_mode": {
        "name": "ipython",
        "version": 3
      },
      "file_extension": ".py",
      "mimetype": "text/x-python",
      "name": "python",
      "nbconvert_exporter": "python",
      "pygments_lexer": "ipython3",
      "version": "3.10.6"
    }
  },
  "nbformat": 4,
  "nbformat_minor": 0
}
